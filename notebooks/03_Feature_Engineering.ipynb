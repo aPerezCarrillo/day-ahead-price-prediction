{
 "cells": [
  {
   "cell_type": "code",
   "execution_count": 7,
   "id": "c68df425-a290-4dfe-98ba-1718a9d260db",
   "metadata": {},
   "outputs": [],
   "source": [
    "import pandas as pd\n",
    "import numpy as np"
   ]
  },
  {
   "cell_type": "markdown",
   "id": "bbe28506-a213-4fa3-9e87-7b83a36d1975",
   "metadata": {},
   "source": [
    "# Load desired dataset to compute extra features"
   ]
  },
  {
   "cell_type": "code",
   "execution_count": null,
   "id": "8636f828-016c-4c64-a347-a396fee96c60",
   "metadata": {},
   "outputs": [],
   "source": [
    "input_ds = \"../data/ml-engineer-dataset.csv\"\n",
    "output_ds = \"../data/FE_full_dataset.csv\"\n",
    "df = pd.read_csv(input_ds)"
   ]
  },
  {
   "cell_type": "code",
   "execution_count": 3,
   "id": "de6726dc-2039-4669-a7db-aae747c0cd3e",
   "metadata": {},
   "outputs": [],
   "source": [
    "input_ds = \"../data/ml-engineer-dataset-smoothed_outliers.csv\"\n",
    "output_ds = \"../data/FE_full_dataset_smoothed_outliers.csv\"\n",
    "df = pd.read_csv(input_ds)"
   ]
  },
  {
   "cell_type": "code",
   "execution_count": 5,
   "id": "2f1e68ec-78a9-4213-8cce-ee1e7d0e8e09",
   "metadata": {},
   "outputs": [],
   "source": [
    "df[\"contract-delivery\"] = pd.to_datetime(df[\"contract-delivery\"], utc=True)\n",
    "df[\"day-ahead-auction-time\"] = pd.to_datetime(df[\"day-ahead-auction-time\"], utc=True)"
   ]
  },
  {
   "cell_type": "markdown",
   "id": "2147c78d-5b2c-4b72-9ce6-5e3b9d364a7b",
   "metadata": {},
   "source": [
    "# Feature Engineering"
   ]
  },
  {
   "cell_type": "markdown",
   "id": "6d252317-0b5e-43bf-b414-c78c374d3380",
   "metadata": {},
   "source": [
    "Time-Based Features\n",
    "\n",
    "    Hour of the Day – Prices vary across the day.\n",
    "    Day of the Week – Weekday vs. weekend effect.\n",
    "    Month & Seasonality – Capture seasonal trends.\n",
    "    Holiday Indicator? – Prices may spike on holidays.\n",
    "    Sinousoidal enconding\n",
    "\n",
    "Lag Features\n",
    "\n",
    "    Previous Day’s Price – Autoregressive signal.\n",
    "    Previous Week’s Price – Weekly patterns.\n",
    "\n",
    "Rolling Statistics\n",
    "\n",
    "    Rolling Mean (7-day, 30-day) – Smooth trends.\n",
    "    Rolling Standard Deviation – Captures volatility.\n",
    "\n",
    "Volatility Features\n",
    "\n",
    "    Wind/Solar Generation Variance – Renewable fluctuations.\n",
    "    Price Volatility – Standard deviation of past prices.\n",
    "\n",
    "Interaction Features\n",
    "\n",
    "    Wind x Solar Generation – Combined effect.\n",
    "    Demand / Renewable Ratio – Supply-demand dynamics."
   ]
  },
  {
   "cell_type": "code",
   "execution_count": 9,
   "id": "1abe459f-dd11-45d8-bd80-41287f8c2be8",
   "metadata": {},
   "outputs": [],
   "source": [
    "# --- TIME-BASED FEATURES ---\n",
    "df[\"hour\"] = df[\"contract-delivery\"].dt.hour  # Hour of the day\n",
    "df[\"day_of_week\"] = df[\"contract-delivery\"].dt.dayofweek  # Monday=0, Sunday=6\n",
    "df[\"month\"] = df[\"contract-delivery\"].dt.month  # Month\n",
    "df[\"is_weekend\"] = df[\"day_of_week\"].isin([5, 6]).astype(int)  # Weekend indicator\n",
    "df['quarter'] = df['contract-delivery'].dt.quarter\n",
    "df['year'] = df['contract-delivery'].dt.year\n",
    "df['dayofyear'] = df['contract-delivery'].dt.dayofyear\n",
    "df['dayofmonth'] = df['contract-delivery'].dt.day\n",
    "df['weekofyear'] = df['contract-delivery'].apply(lambda x : x.weekofyear)\n",
    "\n",
    "# Time-Based Features: Sinusoidal encoding\n",
    "df[\"hour_sin\"] = np.sin(2 * np.pi * df[\"hour\"] / 24)\n",
    "df[\"hour_cos\"] = np.cos(2 * np.pi * df[\"hour\"] / 24)\n",
    "df[\"day_of_week_sin\"] = np.sin(2 * np.pi * df[\"day_of_week\"] / 24)\n",
    "df[\"day_of_week_cos\"] = np.cos(2 * np.pi * df[\"day_of_week\"] / 24)\n",
    "df[\"month_sin\"] = np.sin(2 * np.pi * df[\"month\"] / 24)\n",
    "df[\"month_cos\"] = np.cos(2 * np.pi * df[\"month\"] / 24)\n",
    "\n",
    "# --- LAG FEATURES ---\n",
    "df = df.sort_values(\"contract-delivery\")  # Ensure sorted by time\n",
    "df[\"lag_1\"] = df[\"day-ahead-auction-price\"].shift(24)  # Previous day price\n",
    "df[\"lag_2\"] = df[\"day-ahead-auction-price\"].shift(24*2)  # Previous day price\n",
    "df[\"lag_3\"] = df[\"day-ahead-auction-price\"].shift(24*3)  # Previous day price\n",
    "df[\"lag_7\"] = df[\"day-ahead-auction-price\"].shift(24 * 7)  # One week ago price\n",
    "df[\"lag_14\"] = df[\"day-ahead-auction-price\"].shift(24 * 14)  # Two weeks ago price\n",
    "df[\"lag_21\"] = df[\"day-ahead-auction-price\"].shift(24 * 21)  # Two weeks ago price\n",
    "\n",
    "\n",
    "# --- ROLLING STATISTICS ---\n",
    "df[\"rolling_mean_7\"] = df[\"day-ahead-auction-price\"].rolling(window=7*24, min_periods=1).mean()\n",
    "df[\"rolling_std_7\"] = df[\"day-ahead-auction-price\"].rolling(window=7*24, min_periods=1).std()\n",
    "\n",
    "# --- VOLATILITY FEATURES ---\n",
    "df[\"wind_volatility\"] = df[\"wind-forecast\"].rolling(window=24, min_periods=1).std()\n",
    "df[\"solar_volatility\"] = df[\"solar-forecast\"].rolling(window=24, min_periods=1).std()\n",
    "df[\"price_volatility\"] = df[\"day-ahead-auction-price\"].rolling(window=24, min_periods=1).std()\n",
    "\n",
    "# --- INTERACTION FEATURES ---\n",
    "df[\"wind_solar_interaction\"] = df[\"wind-forecast\"] * df[\"solar-forecast\"]\n",
    "df[\"demand_to_renewable_ratio\"] = df[\"demand-forecast\"] / (df[\"wind-forecast\"] + df[\"solar-forecast\"] + 1e-6)  # Avoid division by zero\n",
    "\n",
    "# Drop rows with NaN values created due to shifting and rolling windows\n",
    "df = df.dropna()\n"
   ]
  },
  {
   "cell_type": "code",
   "execution_count": 10,
   "id": "04ff806a-8805-40f4-8fb2-805f50619406",
   "metadata": {},
   "outputs": [],
   "source": [
    "# Save the new dataset with features\n",
    "df.to_csv(output_ds, index=False)"
   ]
  },
  {
   "cell_type": "code",
   "execution_count": null,
   "id": "b00d9719-938f-43b3-a767-ddb2e2eb09f0",
   "metadata": {},
   "outputs": [],
   "source": []
  }
 ],
 "metadata": {
  "kernelspec": {
   "display_name": "Python 3 (ipykernel)",
   "language": "python",
   "name": "python3"
  },
  "language_info": {
   "codemirror_mode": {
    "name": "ipython",
    "version": 3
   },
   "file_extension": ".py",
   "mimetype": "text/x-python",
   "name": "python",
   "nbconvert_exporter": "python",
   "pygments_lexer": "ipython3",
   "version": "3.12.2"
  }
 },
 "nbformat": 4,
 "nbformat_minor": 5
}
