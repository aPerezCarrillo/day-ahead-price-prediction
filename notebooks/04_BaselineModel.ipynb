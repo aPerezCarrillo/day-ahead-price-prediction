{
 "cells": [
  {
   "cell_type": "code",
   "execution_count": 85,
   "id": "3b3d6c1e-5cef-4328-8957-112e1faa977d",
   "metadata": {},
   "outputs": [],
   "source": [
    "import pandas as pd\n",
    "\n",
    "# Load the dataset\n",
    "file_path = \"../data/FE_no_outliers_dataset.csv\" #\"../data/ml-engineer-dataset-clean.csv\"\n",
    "df_cleaned = pd.read_csv(file_path)"
   ]
  },
  {
   "cell_type": "code",
   "execution_count": 86,
   "id": "daa5640f-7332-4eca-9887-03b099e3a50c",
   "metadata": {},
   "outputs": [
    {
     "data": {
      "text/plain": [
       "Index(['contract-delivery', 'demand-forecast', 'temperature-normal',\n",
       "       'temperature-forecast', 'solar-forecast', 'day-ahead-auction-price',\n",
       "       'wind-forecast', 'day-ahead-auction-time', 'hour', 'day_of_week',\n",
       "       'month', 'is_weekend', 'hour_sin', 'hour_cos', 'day_of_week_sin',\n",
       "       'day_of_week_cos', 'month_sin', 'month_cos', 'lag_1', 'lag_7',\n",
       "       'rolling_mean_7', 'rolling_std_7', 'wind_volatility',\n",
       "       'solar_volatility', 'wind_solar_interaction',\n",
       "       'demand_to_renewable_ratio', 'price_volatility'],\n",
       "      dtype='object')"
      ]
     },
     "execution_count": 86,
     "metadata": {},
     "output_type": "execute_result"
    }
   ],
   "source": [
    "df_cleaned.columns"
   ]
  },
  {
   "cell_type": "markdown",
   "id": "b1202c73-8b0c-47be-a920-a3a8558fa68a",
   "metadata": {},
   "source": [
    "# Historical Average and Linear regression"
   ]
  },
  {
   "cell_type": "code",
   "execution_count": 72,
   "id": "4c04d772-b69c-423c-b0d5-5f9eaa36d57a",
   "metadata": {},
   "outputs": [
    {
     "name": "stdout",
     "output_type": "stream",
     "text": [
      "Historical Average Baseline - MAE: 30.44, RMSE: 40.95\n",
      "Linear Regression Model - MAE: 17.92, RMSE: 24.02\n"
     ]
    }
   ],
   "source": [
    "from sklearn.model_selection import train_test_split\n",
    "from sklearn.linear_model import LinearRegression\n",
    "from sklearn.metrics import mean_absolute_error, mean_squared_error\n",
    "import numpy as np\n",
    "\n",
    "# Define features and target variable\n",
    "features = [\"demand-forecast\", 'temperature-normal', \"solar-forecast\", \"wind-forecast\", \"temperature-forecast\", \"hour\", \"day_of_week\", \"month\"]\n",
    "target = \"day-ahead-auction-price\"\n",
    "\n",
    "# Split data into train and test sets (80% train, 20% test)\n",
    "train, test = train_test_split(df_cleaned, test_size=0.2, random_state=42, shuffle=False)\n",
    "\n",
    "# Train a Linear Regression model\n",
    "X_train, y_train = train[features], train[target]\n",
    "X_test, y_test = test[features], test[target]\n",
    "\n",
    "lr_model = LinearRegression()\n",
    "lr_model.fit(X_train, y_train)\n",
    "\n",
    "# Predictions\n",
    "test[\"lr_pred\"] = lr_model.predict(X_test)\n",
    "\n",
    "\n",
    "# Historical average baseline: Predict using the average price per hour from the training set\n",
    "hourly_avg_price = train.groupby(\"hour\")[target].mean()\n",
    "test[\"historical_avg_pred\"] = test[\"hour\"].map(hourly_avg_price)\n",
    "\n",
    "# Evaluation metrics\n",
    "baseline_mae = mean_absolute_error(y_test, test[\"historical_avg_pred\"])\n",
    "baseline_rmse = np.sqrt(mean_squared_error(y_test, test[\"historical_avg_pred\"]))\n",
    "\n",
    "lr_mae = mean_absolute_error(y_test, test[\"lr_pred\"])\n",
    "lr_rmse = np.sqrt(mean_squared_error(y_test, test[\"lr_pred\"]))\n",
    "\n",
    "print(f\"Historical Average Baseline - MAE: {baseline_mae:.2f}, RMSE: {baseline_rmse:.2f}\")\n",
    "print(f\"Linear Regression Model - MAE: {lr_mae:.2f}, RMSE: {lr_rmse:.2f}\")\n"
   ]
  },
  {
   "cell_type": "markdown",
   "id": "082ba130-c696-47a8-80e7-9b36ed5199b4",
   "metadata": {},
   "source": [
    "Linear Regression model is a big improvement over the historical average baseline! 🚀\n",
    "Analysis of Results\n",
    "\n",
    "    Baseline (Historical Average)\n",
    "        MAE: 30.37 → On average, predictions are €30.37 off from actual prices.\n",
    "        RMSE: 40.85 → Higher penalty for large errors, meaning occasional big misses.\n",
    "\n",
    "    Linear Regression Model\n",
    "        MAE: 17.70 → On average, predictions are now only €17.70 off (almost 50% improvement).\n",
    "        RMSE: 23.81 → Reduced significantly, meaning fewer large errors.\n",
    "\n",
    "How Good is This?\n",
    "\n",
    "    Big improvement over baseline, meaning features are relevant.\n",
    "    Still room for improvement: €17.70 is still a relatively high error for a forecasting model."
   ]
  },
  {
   "cell_type": "code",
   "execution_count": 46,
   "id": "d4513257-a1cd-49da-ba2e-11873ec88283",
   "metadata": {},
   "outputs": [
    {
     "data": {
      "text/html": [
       "<div>\n",
       "<style scoped>\n",
       "    .dataframe tbody tr th:only-of-type {\n",
       "        vertical-align: middle;\n",
       "    }\n",
       "\n",
       "    .dataframe tbody tr th {\n",
       "        vertical-align: top;\n",
       "    }\n",
       "\n",
       "    .dataframe thead th {\n",
       "        text-align: right;\n",
       "    }\n",
       "</style>\n",
       "<table border=\"1\" class=\"dataframe\">\n",
       "  <thead>\n",
       "    <tr style=\"text-align: right;\">\n",
       "      <th></th>\n",
       "      <th>day-ahead-auction-price</th>\n",
       "      <th>lag_1</th>\n",
       "      <th>rolling_mean_7</th>\n",
       "      <th>rolling_std_7</th>\n",
       "      <th>renewable_ratio</th>\n",
       "      <th>hour_sin</th>\n",
       "      <th>hour_cos</th>\n",
       "    </tr>\n",
       "  </thead>\n",
       "  <tbody>\n",
       "    <tr>\n",
       "      <th>576</th>\n",
       "      <td>35.09</td>\n",
       "      <td>38.60</td>\n",
       "      <td>42.938095</td>\n",
       "      <td>10.850749</td>\n",
       "      <td>0.184487</td>\n",
       "      <td>0.000000</td>\n",
       "      <td>1.000000</td>\n",
       "    </tr>\n",
       "    <tr>\n",
       "      <th>577</th>\n",
       "      <td>37.01</td>\n",
       "      <td>36.55</td>\n",
       "      <td>43.026012</td>\n",
       "      <td>10.741326</td>\n",
       "      <td>0.180647</td>\n",
       "      <td>0.258819</td>\n",
       "      <td>0.965926</td>\n",
       "    </tr>\n",
       "    <tr>\n",
       "      <th>578</th>\n",
       "      <td>35.14</td>\n",
       "      <td>32.32</td>\n",
       "      <td>43.084226</td>\n",
       "      <td>10.671283</td>\n",
       "      <td>0.175985</td>\n",
       "      <td>0.500000</td>\n",
       "      <td>0.866025</td>\n",
       "    </tr>\n",
       "    <tr>\n",
       "      <th>579</th>\n",
       "      <td>33.11</td>\n",
       "      <td>30.85</td>\n",
       "      <td>43.130179</td>\n",
       "      <td>10.611084</td>\n",
       "      <td>0.166013</td>\n",
       "      <td>0.707107</td>\n",
       "      <td>0.707107</td>\n",
       "    </tr>\n",
       "    <tr>\n",
       "      <th>580</th>\n",
       "      <td>33.01</td>\n",
       "      <td>30.14</td>\n",
       "      <td>43.172143</td>\n",
       "      <td>10.556574</td>\n",
       "      <td>0.154348</td>\n",
       "      <td>0.866025</td>\n",
       "      <td>0.500000</td>\n",
       "    </tr>\n",
       "  </tbody>\n",
       "</table>\n",
       "</div>"
      ],
      "text/plain": [
       "     day-ahead-auction-price  lag_1  rolling_mean_7  rolling_std_7  \\\n",
       "576                    35.09  38.60       42.938095      10.850749   \n",
       "577                    37.01  36.55       43.026012      10.741326   \n",
       "578                    35.14  32.32       43.084226      10.671283   \n",
       "579                    33.11  30.85       43.130179      10.611084   \n",
       "580                    33.01  30.14       43.172143      10.556574   \n",
       "\n",
       "     renewable_ratio  hour_sin  hour_cos  \n",
       "576         0.184487  0.000000  1.000000  \n",
       "577         0.180647  0.258819  0.965926  \n",
       "578         0.175985  0.500000  0.866025  \n",
       "579         0.166013  0.707107  0.707107  \n",
       "580         0.154348  0.866025  0.500000  "
      ]
     },
     "execution_count": 46,
     "metadata": {},
     "output_type": "execute_result"
    }
   ],
   "source": [
    "import numpy as np\n",
    "\n",
    "# Ensure data is sorted correctly\n",
    "df_cleaned = df_cleaned.sort_values(\"contract-delivery\")\n",
    "\n",
    "# Lag Feature: Previous day's price for the same hour\n",
    "df_cleaned[\"lag_1\"] = df_cleaned.groupby(\"hour\")[\"day-ahead-auction-price\"].shift(24)\n",
    "\n",
    "# Rolling Statistics: 7-day moving average and standard deviation\n",
    "df_cleaned[\"rolling_mean_7\"] = df_cleaned[\"day-ahead-auction-price\"].rolling(window=7*24, min_periods=1).mean()\n",
    "df_cleaned[\"rolling_std_7\"] = df_cleaned[\"day-ahead-auction-price\"].rolling(window=7*24, min_periods=1).std()\n",
    "\n",
    "# Renewable Ratio: (Solar + Wind) / Demand\n",
    "df_cleaned[\"renewable_ratio\"] = (df_cleaned[\"solar-forecast\"] + df_cleaned[\"wind-forecast\"]) / df_cleaned[\"demand-forecast\"]\n",
    "\n",
    "# Time-Based Features: Sinusoidal encoding for hour\n",
    "df_cleaned[\"hour_sin\"] = np.sin(2 * np.pi * df_cleaned[\"hour\"] / 24)\n",
    "df_cleaned[\"hour_cos\"] = np.cos(2 * np.pi * df_cleaned[\"hour\"] / 24)\n",
    "\n",
    "# Drop rows with NaNs introduced by lag features\n",
    "df_cleaned = df_cleaned.dropna()\n",
    "\n",
    "# Display sample of new features\n",
    "df_cleaned[[\"day-ahead-auction-price\", \"lag_1\", \"rolling_mean_7\", \"rolling_std_7\", \"renewable_ratio\", \"hour_sin\", \"hour_cos\"]].head()\n"
   ]
  },
  {
   "cell_type": "markdown",
   "id": "71f9ae98-e662-45c3-8d18-bc0b57ad673d",
   "metadata": {},
   "source": [
    "## Re-run baseline model"
   ]
  },
  {
   "cell_type": "code",
   "execution_count": 47,
   "id": "271e9ea0-efa9-4b3e-8326-278413c18439",
   "metadata": {},
   "outputs": [],
   "source": [
    "# Updated feature set with new engineered features\n",
    "features = [\n",
    "    \"demand-forecast\", \"solar-forecast\", \"wind-forecast\", \"temperature-forecast\", \n",
    "    \"hour\", \"day_of_week\", \"month\", \"lag_1\", \"rolling_mean_7\", \"rolling_std_7\", \n",
    "    \"renewable_ratio\", \"hour_sin\", \"hour_cos\"\n",
    "]\n",
    "\n",
    "target = \"day-ahead-auction-price\"\n"
   ]
  },
  {
   "cell_type": "code",
   "execution_count": 48,
   "id": "c9f79963-0365-4b73-8924-8c0c091ffd32",
   "metadata": {},
   "outputs": [
    {
     "name": "stdout",
     "output_type": "stream",
     "text": [
      "Updated Linear Regression - MAE: 16.24, RMSE: 21.42\n"
     ]
    }
   ],
   "source": [
    "from sklearn.model_selection import train_test_split\n",
    "from sklearn.linear_model import LinearRegression\n",
    "from sklearn.metrics import mean_absolute_error, mean_squared_error\n",
    "import numpy as np\n",
    "\n",
    "# Split data into train and test sets (80% train, 20% test)\n",
    "train, test = train_test_split(df_cleaned, test_size=0.2, random_state=42, shuffle=False)\n",
    "\n",
    "# Train a Linear Regression model with new features\n",
    "X_train, y_train = train[features], train[target]\n",
    "X_test, y_test = test[features], test[target]\n",
    "\n",
    "lr_model = LinearRegression()\n",
    "lr_model.fit(X_train, y_train)\n",
    "\n",
    "# Predictions\n",
    "test[\"lr_pred\"] = lr_model.predict(X_test)\n",
    "\n",
    "# Evaluate performance\n",
    "lr_mae = mean_absolute_error(y_test, test[\"lr_pred\"])\n",
    "lr_rmse = np.sqrt(mean_squared_error(y_test, test[\"lr_pred\"]))\n",
    "\n",
    "print(f\"Updated Linear Regression - MAE: {lr_mae:.2f}, RMSE: {lr_rmse:.2f}\")\n"
   ]
  },
  {
   "cell_type": "markdown",
   "id": "cd56ed77-9cec-40ac-addc-78ca67ffa4b5",
   "metadata": {},
   "source": [
    "<strong data-start=\"42\" data-end=\"71\">Comparison of Performance</strong>\n",
    "<table data-start=\"74\" data-end=\"334\" node=\"[object Object]\"><thead data-start=\"74\" data-end=\"132\"><tr data-start=\"74\" data-end=\"132\"><th data-start=\"74\" data-end=\"82\">Model</th><th data-start=\"82\" data-end=\"106\">MAE (Lower is Better)</th><th data-start=\"106\" data-end=\"132\">RMSE (Lower is Better)</th></tr></thead><tbody data-start=\"158\" data-end=\"334\"><tr data-start=\"158\" data-end=\"200\"><td><strong data-start=\"160\" data-end=\"182\">Historical Average</strong></td><td>30.37</td><td>40.85</td></tr><tr data-start=\"201\" data-end=\"250\"><td><strong data-start=\"203\" data-end=\"232\">Initial Linear Regression</strong></td><td>17.70</td><td>23.81</td></tr><tr data-start=\"251\" data-end=\"334\"><td><strong data-start=\"253\" data-end=\"302\">Updated Linear Regression (with new features)</strong></td><td><strong data-start=\"305\" data-end=\"314\">16.24</strong> 🔽</td><td><strong data-start=\"320\" data-end=\"329\">21.42</strong> 🔽</td></tr><table>\n",
    "\n",
    "<strong data-start=\"340\" data-end=\"357\">Key Takeaways</strong>\n",
    "<p data-start=\"358\" data-end=\"547\"><strong data-start=\"360\" data-end=\"413\">MAE improved from 17.70 → 16.24 (~8% improvement)</strong><br data-start=\"413\" data-end=\"416\">\n",
    "<strong data-start=\"418\" data-end=\"473\">RMSE improved from 23.81 → 21.42 (~10% improvement)</strong><br data-start=\"473\" data-end=\"476\">\n",
    "Feature engineering helped capture additional patterns in the data</p>"
   ]
  },
  {
   "cell_type": "code",
   "execution_count": 8,
   "id": "46074c3d-3a66-4a3a-8153-dc298ef7f4d5",
   "metadata": {},
   "outputs": [],
   "source": [
    "df_cleaned.to_csv('../data/clean_FeatEng.csv')"
   ]
  },
  {
   "cell_type": "code",
   "execution_count": 43,
   "id": "1ef68a6a-6f31-407c-a3aa-310db633a079",
   "metadata": {},
   "outputs": [
    {
     "data": {
      "text/plain": [
       "Index(['contract-delivery', 'demand-forecast', 'temperature-normal',\n",
       "       'temperature-forecast', 'solar-forecast', 'day-ahead-auction-price',\n",
       "       'wind-forecast', 'day-ahead-auction-time', 'wind_volatility',\n",
       "       'solar_volatility', 'price_volatility', 'temperature_deviation'],\n",
       "      dtype='object')"
      ]
     },
     "execution_count": 43,
     "metadata": {},
     "output_type": "execute_result"
    }
   ],
   "source": [
    "df_cleaned.columns"
   ]
  },
  {
   "cell_type": "code",
   "execution_count": 49,
   "id": "716104ba-4347-456a-9596-28258abb51a8",
   "metadata": {},
   "outputs": [],
   "source": [
    "# Sort data by delivery time\n",
    "df_cleaned = df_cleaned.sort_values(by=\"contract-delivery\")\n",
    "\n",
    "# Compute Rolling Volatility (std deviation over past 24 hours)\n",
    "df_cleaned[\"wind_volatility\"] = df_cleaned[\"wind-forecast\"].rolling(window=24, min_periods=1).std()\n",
    "df_cleaned[\"solar_volatility\"] = df_cleaned[\"solar-forecast\"].rolling(window=24, min_periods=1).std()\n",
    "df_cleaned[\"price_volatility\"] = df_cleaned[\"day-ahead-auction-price\"].rolling(window=24, min_periods=1).std()\n",
    "\n",
    "# Compute Weather Uncertainty (difference between forecast & normal temperature)\n",
    "df_cleaned[\"temperature_deviation\"] = np.abs(df_cleaned[\"temperature-forecast\"] - df[\"temperature-normal\"])\n",
    "\n",
    "# Drop initial rows with NaNs (from rolling calculations)\n",
    "df_cleaned = df_cleaned.dropna()"
   ]
  },
  {
   "cell_type": "markdown",
   "id": "497c6a71-fd71-4ba2-8caf-2f3522b5cbc6",
   "metadata": {},
   "source": [
    "# Re-Train Linear Regression with Engineered Features"
   ]
  },
  {
   "cell_type": "code",
   "execution_count": 88,
   "id": "1c73fbb5-de33-4dfc-95f1-65cfe3468d97",
   "metadata": {},
   "outputs": [],
   "source": [
    "# Updated feature set with new engineered features\n",
    "features = ['demand-forecast', 'temperature-normal',\n",
    "       'temperature-forecast', 'solar-forecast',\n",
    "       'wind-forecast', 'hour', 'day_of_week',\n",
    "       'month', 'is_weekend', 'hour_sin', 'hour_cos', 'day_of_week_sin',\n",
    "       'day_of_week_cos', 'month_sin', 'month_cos', 'lag_1', 'lag_7',\n",
    "       'rolling_mean_7', 'rolling_std_7', 'wind_volatility',\n",
    "       'solar_volatility', 'wind_solar_interaction',\n",
    "       'demand_to_renewable_ratio']\n",
    "target = \"day-ahead-auction-price\"\n"
   ]
  },
  {
   "cell_type": "code",
   "execution_count": 89,
   "id": "6378278a-e4e6-4bd4-b2bc-de9af7145518",
   "metadata": {},
   "outputs": [
    {
     "name": "stdout",
     "output_type": "stream",
     "text": [
      "Updated Linear Regression - MAE: 16.45, RMSE: 21.86\n"
     ]
    }
   ],
   "source": [
    "# Split data into train and test sets (80% train, 20% test)\n",
    "train, test = train_test_split(df_cleaned, test_size=0.2, random_state=42, shuffle=False)\n",
    "\n",
    "# Train a Linear Regression model with new features\n",
    "X_train, y_train = train[features], train[target]\n",
    "X_test, y_test = test[features], test[target]\n",
    "\n",
    "lr_model = LinearRegression()\n",
    "lr_model = LinearRegression()\n",
    "lr_model.fit(X_train, y_train)\n",
    "\n",
    "# Predictions\n",
    "test[\"lr_pred\"] = lr_model.predict(X_test)\n",
    "\n",
    "# Evaluate performance\n",
    "lr_mae = mean_absolute_error(y_test, test[\"lr_pred\"])\n",
    "lr_rmse = np.sqrt(mean_squared_error(y_test, test[\"lr_pred\"]))\n",
    "\n",
    "print(f\"Updated Linear Regression - MAE: {lr_mae:.2f}, RMSE: {lr_rmse:.2f}\")"
   ]
  },
  {
   "cell_type": "markdown",
   "id": "2f3ac9ae-b4f9-4557-881b-11ef68e9f2bb",
   "metadata": {},
   "source": [
    "| Model                                            | Mae   | Rmse  |\n",
    "| :----------------------------------------------- | :---- | :---- |\n",
    "| Historical Average                               | 30.37 | 40.85 |\n",
    "| Initial Linear Regression                        | 17.7  | 23.81 |\n",
    "| **Improved Linear Regression (Feature Engineering)** | **16.24** | **21.42** |\n"
   ]
  },
  {
   "cell_type": "code",
   "execution_count": null,
   "id": "3689230f-68eb-4b53-87cc-cacabc6de21a",
   "metadata": {},
   "outputs": [],
   "source": []
  }
 ],
 "metadata": {
  "kernelspec": {
   "display_name": "Python 3 (ipykernel)",
   "language": "python",
   "name": "python3"
  },
  "language_info": {
   "codemirror_mode": {
    "name": "ipython",
    "version": 3
   },
   "file_extension": ".py",
   "mimetype": "text/x-python",
   "name": "python",
   "nbconvert_exporter": "python",
   "pygments_lexer": "ipython3",
   "version": "3.12.2"
  }
 },
 "nbformat": 4,
 "nbformat_minor": 5
}
